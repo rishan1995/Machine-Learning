{
 "cells": [
  {
   "cell_type": "code",
   "execution_count": 1,
   "metadata": {},
   "outputs": [
    {
     "data": {
      "text/html": [
       "<div>\n",
       "<style scoped>\n",
       "    .dataframe tbody tr th:only-of-type {\n",
       "        vertical-align: middle;\n",
       "    }\n",
       "\n",
       "    .dataframe tbody tr th {\n",
       "        vertical-align: top;\n",
       "    }\n",
       "\n",
       "    .dataframe thead th {\n",
       "        text-align: right;\n",
       "    }\n",
       "</style>\n",
       "<table border=\"1\" class=\"dataframe\">\n",
       "  <thead>\n",
       "    <tr style=\"text-align: right;\">\n",
       "      <th></th>\n",
       "      <th>age</th>\n",
       "      <th>sex</th>\n",
       "      <th>bmi</th>\n",
       "      <th>children</th>\n",
       "      <th>smoker</th>\n",
       "      <th>region</th>\n",
       "      <th>charges</th>\n",
       "    </tr>\n",
       "  </thead>\n",
       "  <tbody>\n",
       "    <tr>\n",
       "      <th>0</th>\n",
       "      <td>19</td>\n",
       "      <td>female</td>\n",
       "      <td>27.900</td>\n",
       "      <td>0</td>\n",
       "      <td>yes</td>\n",
       "      <td>southwest</td>\n",
       "      <td>16884.92400</td>\n",
       "    </tr>\n",
       "    <tr>\n",
       "      <th>1</th>\n",
       "      <td>18</td>\n",
       "      <td>male</td>\n",
       "      <td>33.770</td>\n",
       "      <td>1</td>\n",
       "      <td>no</td>\n",
       "      <td>southeast</td>\n",
       "      <td>1725.55230</td>\n",
       "    </tr>\n",
       "    <tr>\n",
       "      <th>2</th>\n",
       "      <td>28</td>\n",
       "      <td>male</td>\n",
       "      <td>33.000</td>\n",
       "      <td>3</td>\n",
       "      <td>no</td>\n",
       "      <td>southeast</td>\n",
       "      <td>4449.46200</td>\n",
       "    </tr>\n",
       "    <tr>\n",
       "      <th>3</th>\n",
       "      <td>33</td>\n",
       "      <td>male</td>\n",
       "      <td>22.705</td>\n",
       "      <td>0</td>\n",
       "      <td>no</td>\n",
       "      <td>northwest</td>\n",
       "      <td>21984.47061</td>\n",
       "    </tr>\n",
       "    <tr>\n",
       "      <th>4</th>\n",
       "      <td>32</td>\n",
       "      <td>male</td>\n",
       "      <td>28.880</td>\n",
       "      <td>0</td>\n",
       "      <td>no</td>\n",
       "      <td>northwest</td>\n",
       "      <td>3866.85520</td>\n",
       "    </tr>\n",
       "  </tbody>\n",
       "</table>\n",
       "</div>"
      ],
      "text/plain": [
       "   age     sex     bmi  children smoker     region      charges\n",
       "0   19  female  27.900         0    yes  southwest  16884.92400\n",
       "1   18    male  33.770         1     no  southeast   1725.55230\n",
       "2   28    male  33.000         3     no  southeast   4449.46200\n",
       "3   33    male  22.705         0     no  northwest  21984.47061\n",
       "4   32    male  28.880         0     no  northwest   3866.85520"
      ]
     },
     "execution_count": 1,
     "metadata": {},
     "output_type": "execute_result"
    }
   ],
   "source": [
    "import numpy as np\n",
    "import pandas as pd\n",
    "import seaborn as sns\n",
    "import matplotlib.pyplot as plt\n",
    "%matplotlib inline\n",
    "\n",
    "df=pd.read_csv('insurance.csv')\n",
    "df.head()"
   ]
  },
  {
   "cell_type": "code",
   "execution_count": 2,
   "metadata": {},
   "outputs": [
    {
     "name": "stdout",
     "output_type": "stream",
     "text": [
      "Series([], dtype: float64) %\n"
     ]
    }
   ],
   "source": [
    "#Check for missing values\n",
    "\n",
    "missing_values=df.isnull().sum().sort_values(ascending=False)\n",
    "missing_values=missing_values[missing_values>0]/df.shape[0] #normalizing\n",
    "print(f'{missing_values * 100} %')\n",
    "\n",
    "#This implies that there are no missing values"
   ]
  },
  {
   "cell_type": "code",
   "execution_count": 3,
   "metadata": {},
   "outputs": [
    {
     "data": {
      "text/html": [
       "<div>\n",
       "<style scoped>\n",
       "    .dataframe tbody tr th:only-of-type {\n",
       "        vertical-align: middle;\n",
       "    }\n",
       "\n",
       "    .dataframe tbody tr th {\n",
       "        vertical-align: top;\n",
       "    }\n",
       "\n",
       "    .dataframe thead th {\n",
       "        text-align: right;\n",
       "    }\n",
       "</style>\n",
       "<table border=\"1\" class=\"dataframe\">\n",
       "  <thead>\n",
       "    <tr style=\"text-align: right;\">\n",
       "      <th></th>\n",
       "      <th>age</th>\n",
       "      <th>sex</th>\n",
       "      <th>bmi</th>\n",
       "      <th>children</th>\n",
       "      <th>smoker</th>\n",
       "      <th>region</th>\n",
       "      <th>charges</th>\n",
       "    </tr>\n",
       "  </thead>\n",
       "  <tbody>\n",
       "    <tr>\n",
       "      <th>0</th>\n",
       "      <td>1</td>\n",
       "      <td>0</td>\n",
       "      <td>197</td>\n",
       "      <td>0</td>\n",
       "      <td>1</td>\n",
       "      <td>3</td>\n",
       "      <td>1005</td>\n",
       "    </tr>\n",
       "    <tr>\n",
       "      <th>1</th>\n",
       "      <td>0</td>\n",
       "      <td>1</td>\n",
       "      <td>350</td>\n",
       "      <td>1</td>\n",
       "      <td>0</td>\n",
       "      <td>2</td>\n",
       "      <td>57</td>\n",
       "    </tr>\n",
       "    <tr>\n",
       "      <th>2</th>\n",
       "      <td>10</td>\n",
       "      <td>1</td>\n",
       "      <td>331</td>\n",
       "      <td>3</td>\n",
       "      <td>0</td>\n",
       "      <td>2</td>\n",
       "      <td>306</td>\n",
       "    </tr>\n",
       "    <tr>\n",
       "      <th>3</th>\n",
       "      <td>15</td>\n",
       "      <td>1</td>\n",
       "      <td>73</td>\n",
       "      <td>0</td>\n",
       "      <td>0</td>\n",
       "      <td>1</td>\n",
       "      <td>1097</td>\n",
       "    </tr>\n",
       "    <tr>\n",
       "      <th>4</th>\n",
       "      <td>14</td>\n",
       "      <td>1</td>\n",
       "      <td>223</td>\n",
       "      <td>0</td>\n",
       "      <td>0</td>\n",
       "      <td>1</td>\n",
       "      <td>254</td>\n",
       "    </tr>\n",
       "  </tbody>\n",
       "</table>\n",
       "</div>"
      ],
      "text/plain": [
       "   age  sex  bmi  children  smoker  region  charges\n",
       "0    1    0  197         0       1       3     1005\n",
       "1    0    1  350         1       0       2       57\n",
       "2   10    1  331         3       0       2      306\n",
       "3   15    1   73         0       0       1     1097\n",
       "4   14    1  223         0       0       1      254"
      ]
     },
     "execution_count": 3,
     "metadata": {},
     "output_type": "execute_result"
    }
   ],
   "source": [
    "from sklearn.preprocessing import LabelEncoder\n",
    "\n",
    "st=df.apply(LabelEncoder().fit_transform)\n",
    "\n",
    "st.head()"
   ]
  },
  {
   "cell_type": "code",
   "execution_count": 4,
   "metadata": {},
   "outputs": [
    {
     "data": {
      "image/png": "[encoded data removed]",
      "text/plain": [
       "<Figure size 1008x864 with 2 Axes>"
      ]
     },
     "metadata": {},
     "output_type": "display_data"
    }
   ],
   "source": [
    "#Visualizing the correlation heatmap\n",
    "\n",
    "sns.set(color_codes=True)\n",
    "plt.figure(figsize=(14,12))\n",
    "sns.heatmap(st.astype(float).corr(),\n",
    "           linewidths=0.2,\n",
    "           square=True,\n",
    "           linecolor='white',\n",
    "           annot=True,\n",
    "           cmap='YlGnBu')\n",
    "plt.show()"
   ]
  },
  {
   "cell_type": "code",
   "execution_count": 5,
   "metadata": {},
   "outputs": [
    {
     "name": "stderr",
     "output_type": "stream",
     "text": [
      "C:\\Users\\Rishan\\Anaconda3\\lib\\site-packages\\matplotlib\\axes\\_axes.py:6462: UserWarning: The 'normed' kwarg is deprecated, and has been replaced by the 'density' kwarg.\n",
      "  warnings.warn(\"The 'normed' kwarg is deprecated, and has been \"\n"
     ]
    },
    {
     "data": {
      "text/plain": [
       "<seaborn.axisgrid.FacetGrid at 0x1cf4534fa20>"
      ]
     },
     "execution_count": 5,
     "metadata": {},
     "output_type": "execute_result"
    },
    {
     "data": {
      "image/png": "[encoded data removed]",
      "text/plain": [
       "<Figure size 720x360 with 2 Axes>"
      ]
     },
     "metadata": {},
     "output_type": "display_data"
    }
   ],
   "source": [
    "#From the above, we can see that age and smoking weigh the most when looking at the charges row. These two\n",
    "#weights are higher than the rest\n",
    "\n",
    "g=sns.FacetGrid(df,col='smoker',size=5,sharey=False,sharex=True)\n",
    "g.map(sns.distplot,'charges',color='r')\n",
    "g.set_axis_labels('charges','proportion')\n",
    "g.despine(left=True)"
   ]
  },
  {
   "cell_type": "code",
   "execution_count": 6,
   "metadata": {},
   "outputs": [
    {
     "name": "stderr",
     "output_type": "stream",
     "text": [
      "C:\\Users\\Rishan\\Anaconda3\\lib\\site-packages\\matplotlib\\axes\\_axes.py:6462: UserWarning: The 'normed' kwarg is deprecated, and has been replaced by the 'density' kwarg.\n",
      "  warnings.warn(\"The 'normed' kwarg is deprecated, and has been \"\n"
     ]
    },
    {
     "data": {
      "image/png": "[encoded data removed]",
      "text/plain": [
       "<Figure size 936x432 with 1 Axes>"
      ]
     },
     "metadata": {},
     "output_type": "display_data"
    }
   ],
   "source": [
    "#From the above graphs, it is obvious that smokers pay more for healthcare\n",
    "\n",
    "plt.figure(figsize=(13,6))\n",
    "plt.title('Distribution of Age')\n",
    "ax=sns.distplot(df['age'],color='green')"
   ]
  },
  {
   "cell_type": "code",
   "execution_count": 7,
   "metadata": {},
   "outputs": [
    {
     "data": {
      "image/png": "[encoded data removed]",
      "text/plain": [
       "<Figure size 354.125x288 with 1 Axes>"
      ]
     },
     "metadata": {},
     "output_type": "display_data"
    }
   ],
   "source": [
    "sns.factorplot(x=\"smoker\", kind=\"count\", hue = 'sex', data = df , palette='bright');\n",
    "plt.show()"
   ]
  },
  {
   "cell_type": "code",
   "execution_count": 8,
   "metadata": {},
   "outputs": [
    {
     "data": {
      "image/png": "[encoded data removed]",
      "text/plain": [
       "<Figure size 555.625x504 with 1 Axes>"
      ]
     },
     "metadata": {},
     "output_type": "display_data"
    }
   ],
   "source": [
    "sns.lmplot(x=\"age\", y=\"charges\", hue=\"smoker\", data=df, palette=dict(yes=\"r\", no=\"g\"), size = 7);\n",
    "ax.set_title('Smokers and non-smokers');\n",
    "plt.show()"
   ]
  },
  {
   "cell_type": "code",
   "execution_count": 9,
   "metadata": {
    "scrolled": false
   },
   "outputs": [
    {
     "data": {
      "text/html": [
       "<div>\n",
       "<style scoped>\n",
       "    .dataframe tbody tr th:only-of-type {\n",
       "        vertical-align: middle;\n",
       "    }\n",
       "\n",
       "    .dataframe tbody tr th {\n",
       "        vertical-align: top;\n",
       "    }\n",
       "\n",
       "    .dataframe thead th {\n",
       "        text-align: right;\n",
       "    }\n",
       "</style>\n",
       "<table border=\"1\" class=\"dataframe\">\n",
       "  <thead>\n",
       "    <tr style=\"text-align: right;\">\n",
       "      <th></th>\n",
       "      <th>age</th>\n",
       "      <th>bmi</th>\n",
       "      <th>children</th>\n",
       "      <th>charges</th>\n",
       "      <th>sex_female</th>\n",
       "      <th>sex_male</th>\n",
       "      <th>smoker_no</th>\n",
       "      <th>smoker_yes</th>\n",
       "      <th>region_northeast</th>\n",
       "      <th>region_northwest</th>\n",
       "      <th>region_southeast</th>\n",
       "      <th>region_southwest</th>\n",
       "    </tr>\n",
       "  </thead>\n",
       "  <tbody>\n",
       "    <tr>\n",
       "      <th>0</th>\n",
       "      <td>19.0</td>\n",
       "      <td>27.900</td>\n",
       "      <td>0.0</td>\n",
       "      <td>16884.92400</td>\n",
       "      <td>1</td>\n",
       "      <td>0</td>\n",
       "      <td>0</td>\n",
       "      <td>1</td>\n",
       "      <td>0</td>\n",
       "      <td>0</td>\n",
       "      <td>0</td>\n",
       "      <td>1</td>\n",
       "    </tr>\n",
       "    <tr>\n",
       "      <th>1</th>\n",
       "      <td>18.0</td>\n",
       "      <td>33.770</td>\n",
       "      <td>1.0</td>\n",
       "      <td>1725.55230</td>\n",
       "      <td>0</td>\n",
       "      <td>1</td>\n",
       "      <td>1</td>\n",
       "      <td>0</td>\n",
       "      <td>0</td>\n",
       "      <td>0</td>\n",
       "      <td>1</td>\n",
       "      <td>0</td>\n",
       "    </tr>\n",
       "    <tr>\n",
       "      <th>2</th>\n",
       "      <td>28.0</td>\n",
       "      <td>33.000</td>\n",
       "      <td>3.0</td>\n",
       "      <td>4449.46200</td>\n",
       "      <td>0</td>\n",
       "      <td>1</td>\n",
       "      <td>1</td>\n",
       "      <td>0</td>\n",
       "      <td>0</td>\n",
       "      <td>0</td>\n",
       "      <td>1</td>\n",
       "      <td>0</td>\n",
       "    </tr>\n",
       "    <tr>\n",
       "      <th>3</th>\n",
       "      <td>33.0</td>\n",
       "      <td>22.705</td>\n",
       "      <td>0.0</td>\n",
       "      <td>21984.47061</td>\n",
       "      <td>0</td>\n",
       "      <td>1</td>\n",
       "      <td>1</td>\n",
       "      <td>0</td>\n",
       "      <td>0</td>\n",
       "      <td>1</td>\n",
       "      <td>0</td>\n",
       "      <td>0</td>\n",
       "    </tr>\n",
       "    <tr>\n",
       "      <th>4</th>\n",
       "      <td>32.0</td>\n",
       "      <td>28.880</td>\n",
       "      <td>0.0</td>\n",
       "      <td>3866.85520</td>\n",
       "      <td>0</td>\n",
       "      <td>1</td>\n",
       "      <td>1</td>\n",
       "      <td>0</td>\n",
       "      <td>0</td>\n",
       "      <td>1</td>\n",
       "      <td>0</td>\n",
       "      <td>0</td>\n",
       "    </tr>\n",
       "  </tbody>\n",
       "</table>\n",
       "</div>"
      ],
      "text/plain": [
       "    age     bmi  children      charges  sex_female  sex_male  smoker_no  \\\n",
       "0  19.0  27.900       0.0  16884.92400           1         0          0   \n",
       "1  18.0  33.770       1.0   1725.55230           0         1          1   \n",
       "2  28.0  33.000       3.0   4449.46200           0         1          1   \n",
       "3  33.0  22.705       0.0  21984.47061           0         1          1   \n",
       "4  32.0  28.880       0.0   3866.85520           0         1          1   \n",
       "\n",
       "   smoker_yes  region_northeast  region_northwest  region_southeast  \\\n",
       "0           1                 0                 0                 0   \n",
       "1           0                 0                 0                 1   \n",
       "2           0                 0                 0                 1   \n",
       "3           0                 0                 1                 0   \n",
       "4           0                 0                 1                 0   \n",
       "\n",
       "   region_southwest  \n",
       "0                 1  \n",
       "1                 0  \n",
       "2                 0  \n",
       "3                 0  \n",
       "4                 0  "
      ]
     },
     "execution_count": 9,
     "metadata": {},
     "output_type": "execute_result"
    }
   ],
   "source": [
    "#charges increase linearly with age, smoking appears to be the highest contributor to charges.\n",
    "\n",
    "df['age'] = df['age'].astype(float)\n",
    "df['children'] = df['children'].astype(float)\n",
    "\n",
    "df = pd.get_dummies(df)\n",
    "\n",
    "df.head()"
   ]
  },
  {
   "cell_type": "code",
   "execution_count": 10,
   "metadata": {},
   "outputs": [],
   "source": [
    "y = df['charges']\n",
    "X = df.drop(columns=['charges'])"
   ]
  },
  {
   "cell_type": "code",
   "execution_count": 11,
   "metadata": {},
   "outputs": [],
   "source": [
    "#Since no testing data is provided, we'll split the given dataset into training and testing sets.\n",
    "\n",
    "from sklearn.model_selection import train_test_split\n",
    "\n",
    "#use 10% of dataset as testing data\n",
    "\n",
    "x_train,x_test,y_train,y_test=train_test_split(X,y,test_size=0.1,random_state=42)"
   ]
  },
  {
   "cell_type": "markdown",
   "metadata": {},
   "source": [
    "## Linear Regression"
   ]
  },
  {
   "cell_type": "code",
   "execution_count": 12,
   "metadata": {},
   "outputs": [
    {
     "name": "stdout",
     "output_type": "stream",
     "text": [
      "MSE Train data: 3.6994e+07,MSE Test Data: 3.2276e+07\n",
      "RMSE Train Data: 6082.3, RMSE Test Data: 5681.2\n",
      "R2 Train Data: 0.74915, R2 Test Data: 0.76604\n"
     ]
    }
   ],
   "source": [
    "from sklearn.linear_model import LinearRegression\n",
    "from sklearn.metrics import r2_score,mean_squared_error\n",
    "\n",
    "lr=LinearRegression().fit(x_train,y_train)\n",
    "\n",
    "lr_train_pred=lr.predict(x_train)\n",
    "lr_test_pred=lr.predict(x_test)\n",
    "\n",
    "lr_train_mse=mean_squared_error(y_train,lr_train_pred)\n",
    "lr_test_mse=mean_squared_error(y_test,lr_test_pred)\n",
    "\n",
    "print(\"MSE Train data: {:.5},MSE Test Data: {:.5}\".format(lr_train_mse,lr_test_mse))\n",
    "\n",
    "print(\"RMSE Train Data: {:.5}, RMSE Test Data: {:.5}\".format(\n",
    "np.sqrt(np.absolute(lr_train_mse)),\n",
    "np.sqrt(np.absolute(lr_test_mse))))\n",
    "\n",
    "print('R2 Train Data: {:.5}, R2 Test Data: {:.5}'.format(\n",
    "r2_score(y_train,lr_train_pred),\n",
    "r2_score(y_test,lr_test_pred)))"
   ]
  },
  {
   "cell_type": "code",
   "execution_count": 13,
   "metadata": {},
   "outputs": [
    {
     "name": "stdout",
     "output_type": "stream",
     "text": [
      "Accuracy: 0.74 (+/- 0.079)\n"
     ]
    }
   ],
   "source": [
    "#Cross Validation\n",
    "\n",
    "from sklearn.model_selection import cross_val_score\n",
    "lr_cv=cross_val_score(LinearRegression(),X,y,cv=7)\n",
    "\n",
    "#accuracy +/- 2 Standard deviations\n",
    "\n",
    "print(\"Accuracy: {:.2} (+/- {:.2})\".format(lr_cv.mean(),lr_cv.std()*2))"
   ]
  },
  {
   "cell_type": "markdown",
   "metadata": {},
   "source": [
    "This isn't too bad for a first try. Now we try implementing Polynomial Features.\n",
    "\n",
    "Polynomial features works on adding a matrix of polynomial coefficients of up to the  kthkth  order, generated by non-linear relationships of current features.\n",
    "\n",
    "For the case of  k=2k=2  it looks something like this:\n",
    "\n",
    "A⋅(x1+x2+..+xn)2=a1x21+a2x1x2+a3x22+a4x2x3+..\n",
    "A⋅(x1+x2+..+xn)2=a1x12+a2x1x2+a3x22+a4x2x3+..\n",
    " \n",
    "Where  aiai  represents the coefficient for Linear Regression to manipulate.\n",
    "\n",
    "This helps us see the effect of non-linear relationships between features."
   ]
  },
  {
   "cell_type": "code",
   "execution_count": 15,
   "metadata": {},
   "outputs": [],
   "source": [
    "from sklearn.preprocessing import PolynomialFeatures\n",
    "\n",
    "X_poly=PolynomialFeatures(degree=2).fit_transform(X)\n",
    "\n",
    "x_train,x_test,y_train,y_test=train_test_split(X_poly,y,test_size=0.1,random_state=42)"
   ]
  },
  {
   "cell_type": "code",
   "execution_count": 16,
   "metadata": {},
   "outputs": [
    {
     "name": "stdout",
     "output_type": "stream",
     "text": [
      "MSE train data: 2.2632e+07, MSE Test Data: 2.0052e+07\n",
      "RMSE Train Data: 4757.3, RMSE Test Data: 4477.9\n",
      "R2 train data: 0.84654, R2 Test Data: 0.85465\n"
     ]
    }
   ],
   "source": [
    "pr=LinearRegression().fit(x_train,y_train)\n",
    "\n",
    "pr_train_pred=pr.predict(x_train)\n",
    "pr_test_pred=pr.predict(x_test)\n",
    "\n",
    "pr_train_mse=mean_squared_error(y_train,pr_train_pred)\n",
    "pr_test_mse=mean_squared_error(y_test,pr_test_pred)\n",
    "\n",
    "print('MSE train data: {:.5}, MSE Test Data: {:.5}'.format(pr_train_mse,pr_test_mse))\n",
    "\n",
    "print('RMSE Train Data: {:.5}, RMSE Test Data: {:.5}'.format(\n",
    "np.sqrt(np.absolute(pr_train_mse)),\n",
    "np.sqrt(np.absolute(pr_test_mse))))\n",
    "\n",
    "print('R2 train data: {:.5}, R2 Test Data: {:.5}'.format(\n",
    "r2_score(y_train,pr_train_pred),\n",
    "r2_score(y_test,pr_test_pred)))"
   ]
  },
  {
   "cell_type": "code",
   "execution_count": 17,
   "metadata": {},
   "outputs": [
    {
     "name": "stdout",
     "output_type": "stream",
     "text": [
      "Accuracy: 0.76 (+/- 0.19)\n"
     ]
    }
   ],
   "source": [
    "pr_cv=cross_val_score(LinearRegression(),X_poly,y,cv=7)\n",
    "#Accuracy +/-2 Standard Deviations\n",
    "\n",
    "print(\"Accuracy: {:.2} (+/- {:.2})\".format(pr_cv.mean(),pr_cv.std()*2))"
   ]
  },
  {
   "cell_type": "markdown",
   "metadata": {},
   "source": [
    "Now we have a better variance score using polynomial relationships."
   ]
  },
  {
   "cell_type": "markdown",
   "metadata": {},
   "source": [
    "## Decision Tree"
   ]
  },
  {
   "cell_type": "code",
   "execution_count": 60,
   "metadata": {
    "scrolled": true
   },
   "outputs": [
    {
     "name": "stdout",
     "output_type": "stream",
     "text": [
      "MSE train data: 2.1706e+05, MSE test data: 4.0802e+07\n",
      "RMSE train data: 465.89, RMSE test data: 465.89\n",
      "R2 train data: 0.99853, R2 test data: 0.70424\n"
     ]
    }
   ],
   "source": [
    "from sklearn.tree import DecisionTreeRegressor\n",
    "\n",
    "dtr=DecisionTreeRegressor().fit(x_train,y_train)\n",
    "\n",
    "dtr_train_pred = rfr.predict(x_train)\n",
    "dtr_test_pred = rfr.predict(x_test)\n",
    "\n",
    "\n",
    "dtr_train_mse = mean_squared_error(y_train,dtr_train_pred)\n",
    "dtr_test_mse = mean_squared_error(y_test,dtr_test_pred)\n",
    "\n",
    "\n",
    "print('MSE train data: {:.5}, MSE test data: {:.5}'.format(dtr_train_mse, dtr_test_mse))\n",
    "\n",
    "print('RMSE train data: {:.5}, RMSE test data: {:.5}'.format(\n",
    "    np.sqrt(np.absolute(dtr_train_mse)), \n",
    "    np.sqrt(np.absolute(dtr_train_mse))))\n",
    "                                                               \n",
    "print('R2 train data: {:.5}, R2 test data: {:.5}'.format(\n",
    "    r2_score(y_train, dtr_train_pred),\n",
    "    r2_score(y_test, dtr_test_pred)))"
   ]
  },
  {
   "cell_type": "code",
   "execution_count": 61,
   "metadata": {},
   "outputs": [
    {
     "name": "stdout",
     "output_type": "stream",
     "text": [
      "Accuracy: 0.67 (+/- 0.12)\n"
     ]
    }
   ],
   "source": [
    "dtr_cv = cross_val_score(DecisionTreeRegressor(), X_poly, y, cv = 7)\n",
    "# accuracy +/- 2 standard deviations\n",
    "print(\"Accuracy: {:.2} (+/- {:.2})\".format(dtr_cv.mean(), dtr_cv.std() * 2)) "
   ]
  },
  {
   "cell_type": "code",
   "execution_count": 57,
   "metadata": {},
   "outputs": [
    {
     "name": "stdout",
     "output_type": "stream",
     "text": [
      "Max Depth: 3\n",
      "Max Leaf Nodes: 9\n"
     ]
    }
   ],
   "source": [
    "\n",
    "\n",
    "#Hyperparameter Tuning\n",
    "\n",
    "from sklearn.model_selection import GridSearchCV\n",
    "#List Hyperparameters that we want to tune.\n",
    "max_depth = list(range(1,50))\n",
    "max_leaf_nodes = list(range(2,30))\n",
    "#p=[1,2]\n",
    "#Convert to dictionary\n",
    "hyperparameters = dict(max_depth=max_depth, max_leaf_nodes=max_leaf_nodes)\n",
    "#Create new KNN object\n",
    "dtr_2 = DecisionTreeRegressor()\n",
    "#Use GridSearch\n",
    "clf = GridSearchCV(dtr_2, hyperparameters, cv=10)\n",
    "#Fit the model\n",
    "best_model = clf.fit(x_train, y_train)\n",
    "#Print The value of best Hyperparameters\n",
    "print('Max Depth:', best_model.best_estimator_.get_params()['max_depth'])\n",
    "#print('Best p:', best_model.best_estimator_.get_params()['p'])\n",
    "print('Max Leaf Nodes:', best_model.best_estimator_.get_params()['max_leaf_nodes'])"
   ]
  },
  {
   "cell_type": "code",
   "execution_count": 62,
   "metadata": {},
   "outputs": [
    {
     "name": "stdout",
     "output_type": "stream",
     "text": [
      "Accuracy: 0.84 (+/- 0.08)\n"
     ]
    }
   ],
   "source": [
    "dtr_cv = cross_val_score(DecisionTreeRegressor(max_depth=3,max_leaf_nodes=9), X_poly, y, cv = 7)\n",
    "# accuracy +/- 2 standard deviations\n",
    "print(\"Accuracy: {:.2} (+/- {:.2})\".format(dtr_cv.mean(), dtr_cv.std() * 2)) "
   ]
  },
  {
   "cell_type": "markdown",
   "metadata": {},
   "source": [
    "## Random Forest"
   ]
  },
  {
   "cell_type": "code",
   "execution_count": 19,
   "metadata": {},
   "outputs": [
    {
     "name": "stdout",
     "output_type": "stream",
     "text": [
      "MSE train data: 3.7578e+06, MSE test data: 2.1988e+07\n",
      "RMSE train data: 1938.5, RMSE test data: 1938.5\n",
      "R2 train data: 0.97452, R2 test data: 0.84062\n"
     ]
    }
   ],
   "source": [
    "from sklearn.ensemble import RandomForestRegressor\n",
    "\n",
    "rfr=RandomForestRegressor(n_estimators=50).fit(x_train,y_train)\n",
    "\n",
    "rfr_train_pred = rfr.predict(x_train)\n",
    "rfr_test_pred = rfr.predict(x_test)\n",
    "\n",
    "\n",
    "rfr_train_mse = mean_squared_error(y_train,rfr_train_pred)\n",
    "rfr_test_mse = mean_squared_error(y_test,rfr_test_pred)\n",
    "\n",
    "\n",
    "print('MSE train data: {:.5}, MSE test data: {:.5}'.format(rfr_train_mse, rfr_test_mse))\n",
    "\n",
    "print('RMSE train data: {:.5}, RMSE test data: {:.5}'.format(\n",
    "    np.sqrt(np.absolute(rfr_train_mse)), \n",
    "    np.sqrt(np.absolute(rfr_train_mse))))\n",
    "                                                               \n",
    "print('R2 train data: {:.5}, R2 test data: {:.5}'.format(\n",
    "    r2_score(y_train, rfr_train_pred),\n",
    "    r2_score(y_test, rfr_test_pred)))"
   ]
  },
  {
   "cell_type": "code",
   "execution_count": 53,
   "metadata": {},
   "outputs": [
    {
     "name": "stdout",
     "output_type": "stream",
     "text": [
      "Accuracy: 0.83 (+/- 0.095)\n"
     ]
    }
   ],
   "source": [
    "rfr_cv = cross_val_score(RandomForestRegressor(n_estimators = 50), X_poly, y, cv = 7)\n",
    "# accuracy +/- 2 standard deviations\n",
    "print(\"Accuracy: {:.2} (+/- {:.2})\".format(rfr_cv.mean(), rfr_cv.std() * 2)) "
   ]
  },
  {
   "cell_type": "markdown",
   "metadata": {},
   "source": [
    "## Bayesian Ridge"
   ]
  },
  {
   "cell_type": "code",
   "execution_count": 22,
   "metadata": {},
   "outputs": [
    {
     "name": "stdout",
     "output_type": "stream",
     "text": [
      "MSE train data: 2.453e+07, MSE test data: 2.0244e+07\n",
      "RMSE train data: 4952.8, RMSE test data: 4952.8\n",
      "R2 train data: 0.83366, R2 test data: 0.85326\n"
     ]
    }
   ],
   "source": [
    "from sklearn.linear_model import BayesianRidge\n",
    "\n",
    "br = BayesianRidge().fit(x_train, y_train)\n",
    "\n",
    "br_train_pred = br.predict(x_train)\n",
    "br_test_pred = br.predict(x_test)\n",
    "\n",
    "\n",
    "br_train_mse = mean_squared_error(y_train, br_train_pred)\n",
    "br_test_mse = mean_squared_error(y_test, br_test_pred)\n",
    "\n",
    "\n",
    "print('MSE train data: {:.5}, MSE test data: {:.5}'.format(br_train_mse, br_test_mse))\n",
    "\n",
    "print('RMSE train data: {:.5}, RMSE test data: {:.5}'.format(\n",
    "    np.sqrt(np.absolute(br_train_mse)), \n",
    "    np.sqrt(np.absolute(br_train_mse))))\n",
    "                                                               \n",
    "print('R2 train data: {:.5}, R2 test data: {:.5}'.format(\n",
    "    r2_score(y_train, br_train_pred),\n",
    "    r2_score(y_test, br_test_pred)))"
   ]
  },
  {
   "cell_type": "code",
   "execution_count": 23,
   "metadata": {},
   "outputs": [
    {
     "name": "stdout",
     "output_type": "stream",
     "text": [
      "Accuracy: 0.83 (+/- 0.069)\n"
     ]
    }
   ],
   "source": [
    "br_cv = cross_val_score(BayesianRidge(), X_poly, y, cv = 7)\n",
    "# accuracy +/- 2 standard deviations\n",
    "print(\"Accuracy: {:.2} (+/- {:.2})\".format(br_cv.mean(), br_cv.std() * 2)) "
   ]
  },
  {
   "cell_type": "markdown",
   "metadata": {},
   "source": [
    "## KNN Regressor "
   ]
  },
  {
   "cell_type": "code",
   "execution_count": 27,
   "metadata": {},
   "outputs": [
    {
     "data": {
      "text/plain": [
       "KNeighborsRegressor(algorithm='auto', leaf_size=30, metric='minkowski',\n",
       "          metric_params=None, n_jobs=1, n_neighbors=5, p=2,\n",
       "          weights='uniform')"
      ]
     },
     "execution_count": 27,
     "metadata": {},
     "output_type": "execute_result"
    }
   ],
   "source": [
    "br = KNeighborsRegressor().fit(x_train, y_train)\n",
    "br"
   ]
  },
  {
   "cell_type": "code",
   "execution_count": 35,
   "metadata": {},
   "outputs": [
    {
     "name": "stdout",
     "output_type": "stream",
     "text": [
      "MSE train data: 6.0127e+07, MSE test data: 1.0008e+08\n",
      "RMSE train data: 7754.2, RMSE test data: 7754.2\n",
      "R2 train data: 0.59228, R2 test data: 0.27452\n"
     ]
    }
   ],
   "source": [
    "from sklearn.neighbors import KNeighborsRegressor\n",
    "\n",
    "br = KNeighborsRegressor(n_neighbors=3).fit(x_train, y_train)\n",
    "\n",
    "br_train_pred = br.predict(x_train)\n",
    "br_test_pred = br.predict(x_test)\n",
    "\n",
    "\n",
    "br_train_mse = mean_squared_error(y_train, br_train_pred)\n",
    "br_test_mse = mean_squared_error(y_test, br_test_pred)\n",
    "\n",
    "\n",
    "print('MSE train data: {:.5}, MSE test data: {:.5}'.format(br_train_mse, br_test_mse))\n",
    "\n",
    "print('RMSE train data: {:.5}, RMSE test data: {:.5}'.format(\n",
    "    np.sqrt(np.absolute(br_train_mse)), \n",
    "    np.sqrt(np.absolute(br_train_mse))))\n",
    "                                                               \n",
    "print('R2 train data: {:.5}, R2 test data: {:.5}'.format(\n",
    "    r2_score(y_train, br_train_pred),\n",
    "    r2_score(y_test, br_test_pred)))\n"
   ]
  },
  {
   "cell_type": "code",
   "execution_count": 41,
   "metadata": {},
   "outputs": [
    {
     "name": "stdout",
     "output_type": "stream",
     "text": [
      "Accuracy: 0.14 (+/- 0.081)\n"
     ]
    }
   ],
   "source": [
    "km_cv = cross_val_score(KNeighborsRegressor(n_neighbors=5), X_poly, y, cv = 7)\n",
    "# accuracy +/- 2 standard deviations\n",
    "print(\"Accuracy: {:.2} (+/- {:.2})\".format(km_cv.mean(), km_cv.std() * 2)) "
   ]
  },
  {
   "cell_type": "code",
   "execution_count": 44,
   "metadata": {},
   "outputs": [
    {
     "name": "stdout",
     "output_type": "stream",
     "text": [
      "Best leaf_size: 1\n",
      "Best p: 1\n",
      "Best n_neighbors: 8\n"
     ]
    }
   ],
   "source": [
    "#Hyperparameter Tuning\n",
    "\n",
    "from sklearn.model_selection import GridSearchCV\n",
    "#List Hyperparameters that we want to tune.\n",
    "leaf_size = list(range(1,50))\n",
    "n_neighbors = list(range(1,30))\n",
    "p=[1,2]\n",
    "#Convert to dictionary\n",
    "hyperparameters = dict(leaf_size=leaf_size, n_neighbors=n_neighbors, p=p)\n",
    "#Create new KNN object\n",
    "knn_2 = KNeighborsRegressor()\n",
    "#Use GridSearch\n",
    "clf = GridSearchCV(knn_2, hyperparameters, cv=10)\n",
    "#Fit the model\n",
    "best_model = clf.fit(x_train, y_train)\n",
    "#Print The value of best Hyperparameters\n",
    "print('Best leaf_size:', best_model.best_estimator_.get_params()['leaf_size'])\n",
    "print('Best p:', best_model.best_estimator_.get_params()['p'])\n",
    "print('Best n_neighbors:', best_model.best_estimator_.get_params()['n_neighbors'])"
   ]
  },
  {
   "cell_type": "code",
   "execution_count": 45,
   "metadata": {},
   "outputs": [
    {
     "name": "stdout",
     "output_type": "stream",
     "text": [
      "MSE train data: 6.0939e+07, MSE test data: 5.8757e+07\n",
      "RMSE train data: 7806.4, RMSE test data: 7806.4\n",
      "R2 train data: 0.58678, R2 test data: 0.57409\n"
     ]
    }
   ],
   "source": [
    "from sklearn.neighbors import KNeighborsRegressor\n",
    "\n",
    "br = KNeighborsRegressor(leaf_size=1,p=1,n_neighbors=8).fit(x_train, y_train)\n",
    "\n",
    "br_train_pred = br.predict(x_train)\n",
    "br_test_pred = br.predict(x_test)\n",
    "\n",
    "\n",
    "br_train_mse = mean_squared_error(y_train, br_train_pred)\n",
    "br_test_mse = mean_squared_error(y_test, br_test_pred)\n",
    "\n",
    "\n",
    "print('MSE train data: {:.5}, MSE test data: {:.5}'.format(br_train_mse, br_test_mse))\n",
    "\n",
    "print('RMSE train data: {:.5}, RMSE test data: {:.5}'.format(\n",
    "    np.sqrt(np.absolute(br_train_mse)), \n",
    "    np.sqrt(np.absolute(br_train_mse))))\n",
    "                                                               \n",
    "print('R2 train data: {:.5}, R2 test data: {:.5}'.format(\n",
    "    r2_score(y_train, br_train_pred),\n",
    "    r2_score(y_test, br_test_pred)))\n"
   ]
  },
  {
   "cell_type": "code",
   "execution_count": 46,
   "metadata": {},
   "outputs": [
    {
     "name": "stdout",
     "output_type": "stream",
     "text": [
      "Accuracy: 0.45 (+/- 0.084)\n"
     ]
    }
   ],
   "source": [
    "km_cv = cross_val_score(KNeighborsRegressor(leaf_size=1,p=1,n_neighbors=8), X_poly, y, cv = 7)\n",
    "# accuracy +/- 2 standard deviations\n",
    "print(\"Accuracy: {:.2} (+/- {:.2})\".format(km_cv.mean(), km_cv.std() * 2)) \n",
    "\n",
    "#Low accuracy."
   ]
  },
  {
   "cell_type": "code",
   "execution_count": null,
   "metadata": {},
   "outputs": [],
   "source": []
  }
 ],
 "metadata": {
  "kernelspec": {
   "display_name": "Python 3",
   "language": "python",
   "name": "python3"
  },
  "language_info": {
   "codemirror_mode": {
    "name": "ipython",
    "version": 3
   },
   "file_extension": ".py",
   "mimetype": "text/x-python",
   "name": "python",
   "nbconvert_exporter": "python",
   "pygments_lexer": "ipython3",
   "version": "3.6.4"
  }
 },
 "nbformat": 4,
 "nbformat_minor": 2
}
